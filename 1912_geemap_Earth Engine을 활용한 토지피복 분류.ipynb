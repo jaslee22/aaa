{
 "cells": [
  {
   "cell_type": "code",
   "execution_count": 1,
   "id": "4978b560-e9ef-4114-8dcb-0562ba53fe84",
   "metadata": {},
   "outputs": [],
   "source": [
    "import ee\n",
    "import geemap"
   ]
  },
  {
   "cell_type": "code",
   "execution_count": 2,
   "id": "48f44ea9-789c-4071-b971-bdad789a2e60",
   "metadata": {},
   "outputs": [
    {
     "data": {
      "application/vnd.jupyter.widget-view+json": {
       "model_id": "de2f428a1a1b43e6aff09c119dc883de",
       "version_major": 2,
       "version_minor": 0
      },
      "text/plain": [
       "Map(center=[20, 0], controls=(WidgetControl(options=['position', 'transparent_bg'], widget=HBox(children=(Togg…"
      ]
     },
     "execution_count": 2,
     "metadata": {},
     "output_type": "execute_result"
    }
   ],
   "source": [
    "Map = geemap.Map()\n",
    "Map"
   ]
  },
  {
   "cell_type": "code",
   "execution_count": 3,
   "id": "3a729de5-27f5-4bcb-b332-564ea5b824b6",
   "metadata": {},
   "outputs": [
    {
     "name": "stdout",
     "output_type": "stream",
     "text": [
      "중앙점의 위도: 36.6125\n",
      "중앙점의 경도: 126.2256\n"
     ]
    }
   ],
   "source": [
    "# 태안해안국립공원 영역을 추출하는 함수 정의\n",
    "def get_boundary():\n",
    "    roi = ee.FeatureCollection(\"WCMC/WDPA/current/polygons\") \\\n",
    "        .filter(ee.Filter.eq(\"NAME\", \"Taeanhaean\")) \\\n",
    "        .geometry()\n",
    "    return roi\n",
    "\n",
    "# 태안해안국립공원 경계 추출\n",
    "region = get_boundary()\n",
    "\n",
    "# 중앙점 계산\n",
    "centroid = region.centroid()\n",
    "\n",
    "# 중앙점의 위도와 경도 값 얻기\n",
    "lon_lat = centroid.getInfo()['coordinates']\n",
    "longitude = lon_lat[0]\n",
    "latitude = lon_lat[1]\n",
    "\n",
    "# 위도와 경도 값을 소수점 넷째 자리까지 출력\n",
    "print(\"중앙점의 위도: {:.4f}\".format(latitude))\n",
    "print(\"중앙점의 경도: {:.4f}\".format(longitude))"
   ]
  },
  {
   "cell_type": "code",
   "execution_count": 4,
   "id": "713d733b-d8bd-4604-8256-48e8ccec0374",
   "metadata": {},
   "outputs": [
    {
     "data": {
      "application/vnd.jupyter.widget-view+json": {
       "model_id": "de2f428a1a1b43e6aff09c119dc883de",
       "version_major": 2,
       "version_minor": 0
      },
      "text/plain": [
       "Map(center=[36.6125, 126.22559999999999], controls=(WidgetControl(options=['position', 'transparent_bg'], widg…"
      ]
     },
     "execution_count": 4,
     "metadata": {},
     "output_type": "execute_result"
    }
   ],
   "source": [
    "point = ee.Geometry.Point([126.2256, 36.6125])\n",
    "\n",
    "image = (\n",
    "    ee.ImageCollection('LANDSAT/LC08/C02/T1_TOA')\n",
    "    .filterBounds(point)\n",
    "    .filterDate('2022-01-01', '2022-12-31')\n",
    "    .sort('CLOUD_COVER')\n",
    "    .first()\n",
    "    .select('B[1-7]')\n",
    ")\n",
    "\n",
    "vis_params = {'min': 0, 'max': 0.4, 'bands': ['B5', 'B4', 'B3']}\n",
    "\n",
    "# Landsat-8 데이터 추가\n",
    "Map.centerObject(point, 9)\n",
    "Map.addLayer(image, vis_params, \"Landsat-8\")\n",
    "Map"
   ]
  },
  {
   "cell_type": "code",
   "execution_count": 5,
   "id": "1c1a1822-6057-401b-9508-a68977052cc9",
   "metadata": {},
   "outputs": [
    {
     "data": {
      "text/plain": [
       "'2022-10-27'"
      ]
     },
     "execution_count": 5,
     "metadata": {},
     "output_type": "execute_result"
    }
   ],
   "source": [
    "ee.Date(image.get('system:time_start')).format('YYYY-MM-dd').getInfo()"
   ]
  },
  {
   "cell_type": "code",
   "execution_count": 6,
   "id": "b4eb1dbf-4e23-4838-ae41-019dd4eb4192",
   "metadata": {},
   "outputs": [
    {
     "data": {
      "text/plain": [
       "0.02"
      ]
     },
     "execution_count": 6,
     "metadata": {},
     "output_type": "execute_result"
    }
   ],
   "source": [
    "image.get('CLOUD_COVER').getInfo()"
   ]
  },
  {
   "cell_type": "code",
   "execution_count": 7,
   "id": "055fefff-28fb-40c4-bcef-18216243f7e7",
   "metadata": {},
   "outputs": [
    {
     "data": {
      "application/vnd.jupyter.widget-view+json": {
       "model_id": "de2f428a1a1b43e6aff09c119dc883de",
       "version_major": 2,
       "version_minor": 0
      },
      "text/plain": [
       "Map(center=[36.6125, 126.22559999999999], controls=(WidgetControl(options=['position', 'transparent_bg'], widg…"
      ]
     },
     "execution_count": 7,
     "metadata": {},
     "output_type": "execute_result"
    }
   ],
   "source": [
    "# ESA WorldCover 10m v200\n",
    "esa_worldcover = ee.ImageCollection('ESA/WorldCover/v200').first()\n",
    "esa_worldcover_kr = esa_worldcover.clip(image.geometry())\n",
    "\n",
    "Map.addLayer(esa_worldcover_kr, {}, 'ESA WorldCover')\n",
    "Map"
   ]
  },
  {
   "cell_type": "code",
   "execution_count": 8,
   "id": "3a21f381-10f2-4aca-89a2-93eaa595cb48",
   "metadata": {},
   "outputs": [],
   "source": [
    "# 학습 데이터 생성\n",
    "points = esa_worldcover_kr.sample(\n",
    "    **{\n",
    "        'region': image.geometry(),\n",
    "        'scale': 30,\n",
    "        'numPixels': 5000,\n",
    "        'seed': 0,\n",
    "        'geometries': True,\n",
    "    }\n",
    ")\n",
    "\n",
    "Map.addLayer(points, {}, 'training', False)"
   ]
  },
  {
   "cell_type": "code",
   "execution_count": 9,
   "id": "9536eff7-c797-4851-8a78-8942b28c64e5",
   "metadata": {},
   "outputs": [
    {
     "name": "stdout",
     "output_type": "stream",
     "text": [
      "4103\n"
     ]
    }
   ],
   "source": [
    "print(points.size().getInfo())"
   ]
  },
  {
   "cell_type": "code",
   "execution_count": 10,
   "id": "31826065-4a6c-421b-bc12-373af29ede33",
   "metadata": {},
   "outputs": [
    {
     "name": "stdout",
     "output_type": "stream",
     "text": [
      "{'type': 'Feature', 'geometry': {'type': 'Point', 'coordinates': [125.95303141182198, 36.149676107086066]}, 'id': '0', 'properties': {'Map': 80}}\n"
     ]
    }
   ],
   "source": [
    "print(points.first().getInfo())"
   ]
  },
  {
   "cell_type": "code",
   "execution_count": 11,
   "id": "2cfb9182-73d2-40d3-ac49-84739b0a1dc0",
   "metadata": {},
   "outputs": [],
   "source": [
    "# 예측에 사용하는 밴드\n",
    "bands = ['B1', 'B2', 'B3', 'B4', 'B5', 'B6', 'B7']\n",
    "\n",
    "\n",
    "# 토지피복 레이블 저장 테이블의 속성\n",
    "label = 'Map'\n",
    "\n",
    "# 이미지 위에 점들을 오버레이하여 훈련 데이터 얻기\n",
    "training = image.select(bands).sampleRegions(\n",
    "    **{'collection': points, 'properties': [label], 'scale': 30}\n",
    ")\n",
    "\n",
    "# 기본 매개변수를 사용하여 CART 분류기 훈련\n",
    "trained = ee.Classifier.smileCart().train(training, label, bands)"
   ]
  },
  {
   "cell_type": "code",
   "execution_count": 12,
   "id": "9df06748-12b0-469d-80ef-2519502ddba6",
   "metadata": {},
   "outputs": [
    {
     "name": "stdout",
     "output_type": "stream",
     "text": [
      "{'type': 'Feature', 'geometry': None, 'id': '0_0', 'properties': {'B1': 0.1613909751176834, 'B2': 0.13543030619621277, 'B3': 0.08888012915849686, 'B4': 0.05841150879859924, 'B5': 0.03379363194108009, 'B6': 0.011541628278791904, 'B7': 0.006362282671034336, 'Map': 80}}\n"
     ]
    }
   ],
   "source": [
    "print(training.first().getInfo())"
   ]
  },
  {
   "cell_type": "code",
   "execution_count": 13,
   "id": "076dfa36-55ba-48d8-8b6a-ce5dca177224",
   "metadata": {},
   "outputs": [
    {
     "data": {
      "application/vnd.jupyter.widget-view+json": {
       "model_id": "de2f428a1a1b43e6aff09c119dc883de",
       "version_major": 2,
       "version_minor": 0
      },
      "text/plain": [
       "Map(center=[36.6125, 126.22559999999999], controls=(WidgetControl(options=['position', 'transparent_bg'], widg…"
      ]
     },
     "execution_count": 13,
     "metadata": {},
     "output_type": "execute_result"
    }
   ],
   "source": [
    "# 훈련에 사용된 동일한 밴드로 이미지 분류\n",
    "result = image.select(bands).classify(trained)\n",
    "\n",
    "# 랜덤한 색상으로 클러스터 표시\n",
    "Map.addLayer(result.randomVisualizer(), {}, 'classified')\n",
    "Map"
   ]
  },
  {
   "cell_type": "code",
   "execution_count": 14,
   "id": "bdcc66e7-27cc-4001-840a-3b0c726904c2",
   "metadata": {},
   "outputs": [
    {
     "data": {
      "text/plain": [
       "[10, 20, 30, 40, 50, 60, 70, 80, 90, 95, 100]"
      ]
     },
     "execution_count": 14,
     "metadata": {},
     "output_type": "execute_result"
    }
   ],
   "source": [
    "class_values = esa_worldcover_kr.get('Map_class_values').getInfo()\n",
    "class_values"
   ]
  },
  {
   "cell_type": "code",
   "execution_count": 15,
   "id": "2702bcb2-2f7c-4fae-9d9e-ee97ecd27af3",
   "metadata": {},
   "outputs": [
    {
     "data": {
      "text/plain": [
       "['006400',\n",
       " 'ffbb22',\n",
       " 'ffff4c',\n",
       " 'f096ff',\n",
       " 'fa0000',\n",
       " 'b4b4b4',\n",
       " 'f0f0f0',\n",
       " '0064c8',\n",
       " '0096a0',\n",
       " '00cf75',\n",
       " 'fae6a0']"
      ]
     },
     "execution_count": 15,
     "metadata": {},
     "output_type": "execute_result"
    }
   ],
   "source": [
    "class_palette = esa_worldcover_kr.get('Map_class_palette').getInfo()\n",
    "class_palette"
   ]
  },
  {
   "cell_type": "code",
   "execution_count": 16,
   "id": "044205d0-3759-43b4-9988-288c4b080813",
   "metadata": {},
   "outputs": [],
   "source": [
    "landcover = result.set('classification_class_values', class_values)\n",
    "landcover = landcover.set('classification_class_palette', class_palette)"
   ]
  },
  {
   "cell_type": "code",
   "execution_count": 17,
   "id": "f0e9d87c-24b3-4c30-ab54-efb5428cc663",
   "metadata": {},
   "outputs": [
    {
     "data": {
      "application/vnd.jupyter.widget-view+json": {
       "model_id": "de2f428a1a1b43e6aff09c119dc883de",
       "version_major": 2,
       "version_minor": 0
      },
      "text/plain": [
       "Map(center=[36.6125, 126.22559999999999], controls=(WidgetControl(options=['position', 'transparent_bg'], widg…"
      ]
     },
     "execution_count": 17,
     "metadata": {},
     "output_type": "execute_result"
    }
   ],
   "source": [
    "Map.addLayer(landcover, {}, 'Land cover')\n",
    "Map"
   ]
  },
  {
   "cell_type": "code",
   "execution_count": 18,
   "id": "8954d7cb-fba9-46a9-aca2-d3407728c940",
   "metadata": {},
   "outputs": [
    {
     "name": "stdout",
     "output_type": "stream",
     "text": [
      "Change layer opacity:\n"
     ]
    },
    {
     "data": {
      "application/vnd.jupyter.widget-view+json": {
       "model_id": "6f49d2b2ed4948789b6278f5367690fc",
       "version_major": 2,
       "version_minor": 0
      },
      "text/plain": [
       "Box(children=(FloatSlider(value=1.0, description='opacity', max=1.0),))"
      ]
     },
     "execution_count": 18,
     "metadata": {},
     "output_type": "execute_result"
    }
   ],
   "source": [
    "print('Change layer opacity:')\n",
    "cluster_layer = Map.layers[-1]\n",
    "cluster_layer.interact(opacity=(0, 1, 0.1))"
   ]
  },
  {
   "cell_type": "code",
   "execution_count": 19,
   "id": "5a0948f2-3012-4a24-8b2d-b97d7098a0ff",
   "metadata": {},
   "outputs": [
    {
     "data": {
      "application/vnd.jupyter.widget-view+json": {
       "model_id": "de2f428a1a1b43e6aff09c119dc883de",
       "version_major": 2,
       "version_minor": 0
      },
      "text/plain": [
       "Map(center=[36.6125, 126.22559999999999], controls=(WidgetControl(options=['position', 'transparent_bg'], widg…"
      ]
     },
     "execution_count": 19,
     "metadata": {},
     "output_type": "execute_result"
    }
   ],
   "source": [
    "Map.add_legend(builtin_legend='ESA_WorldCover')\n",
    "Map"
   ]
  },
  {
   "cell_type": "code",
   "execution_count": 20,
   "id": "dd2bd711-8462-4f71-8b20-40c49a5f5e68",
   "metadata": {},
   "outputs": [
    {
     "name": "stdout",
     "output_type": "stream",
     "text": [
      "Generating URL ...\n",
      "Downloading data from https://earthengine.googleapis.com/v1/projects/earthengine-legacy/thumbnails/418b4ca937b605e326962a00fb83456d-46576ef7418d14f339e54410e11adb41:getPixels\n",
      "Please wait ...\n",
      "Data downloaded to D:\\GEODATA\\landcover.tif\n"
     ]
    },
    {
     "data": {
      "text/plain": [
       "\"\\ngeemap.ee_export_image_to_drive(\\n    landcover, description='landcover', folder='export', scale=30\\n)\\n\""
      ]
     },
     "execution_count": 20,
     "metadata": {},
     "output_type": "execute_result"
    }
   ],
   "source": [
    "import os\n",
    "\n",
    "out_dir = 'D:/GEODATA'\n",
    "out_file = os.path.join(out_dir, 'landcover.tif')\n",
    "\n",
    "geemap.ee_export_image(landcover, filename=out_file, scale=100)\n",
    "\n",
    "\"\"\"\n",
    "geemap.ee_export_image_to_drive(\n",
    "    landcover, description='landcover', folder='export', scale=30\n",
    ")\n",
    "\"\"\""
   ]
  }
 ],
 "metadata": {
  "kernelspec": {
   "display_name": "Python 3 (ipykernel)",
   "language": "python",
   "name": "python3"
  },
  "language_info": {
   "codemirror_mode": {
    "name": "ipython",
    "version": 3
   },
   "file_extension": ".py",
   "mimetype": "text/x-python",
   "name": "python",
   "nbconvert_exporter": "python",
   "pygments_lexer": "ipython3",
   "version": "3.10.11"
  }
 },
 "nbformat": 4,
 "nbformat_minor": 5
}
