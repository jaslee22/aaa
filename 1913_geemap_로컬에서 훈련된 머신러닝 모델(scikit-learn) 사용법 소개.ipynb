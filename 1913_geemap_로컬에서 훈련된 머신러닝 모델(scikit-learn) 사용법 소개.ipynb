{
 "cells": [
  {
   "cell_type": "code",
   "execution_count": 1,
   "id": "f7301321-38b5-4438-9046-5d7bdcb42d50",
   "metadata": {},
   "outputs": [],
   "source": [
    "import pandas as pd\n",
    "from geemap import ml\n",
    "from sklearn import ensemble\n",
    "\n",
    "import ee\n",
    "import geemap"
   ]
  },
  {
   "cell_type": "code",
   "execution_count": 2,
   "id": "39721d40-1558-4f71-8040-601e16f0b1b8",
   "metadata": {},
   "outputs": [],
   "source": [
    "# Earth Engine 초기화\n",
    "ee.Initialize()"
   ]
  },
  {
   "cell_type": "code",
   "execution_count": 3,
   "id": "99c15185-3bdf-402a-b760-6d69ee9c43ed",
   "metadata": {},
   "outputs": [
    {
     "data": {
      "text/html": [
       "<div>\n",
       "<style scoped>\n",
       "    .dataframe tbody tr th:only-of-type {\n",
       "        vertical-align: middle;\n",
       "    }\n",
       "\n",
       "    .dataframe tbody tr th {\n",
       "        vertical-align: top;\n",
       "    }\n",
       "\n",
       "    .dataframe thead th {\n",
       "        text-align: right;\n",
       "    }\n",
       "</style>\n",
       "<table border=\"1\" class=\"dataframe\">\n",
       "  <thead>\n",
       "    <tr style=\"text-align: right;\">\n",
       "      <th></th>\n",
       "      <th>B2</th>\n",
       "      <th>B3</th>\n",
       "      <th>B4</th>\n",
       "      <th>B5</th>\n",
       "      <th>B6</th>\n",
       "      <th>B7</th>\n",
       "      <th>landcover</th>\n",
       "    </tr>\n",
       "  </thead>\n",
       "  <tbody>\n",
       "    <tr>\n",
       "      <th>0</th>\n",
       "      <td>0.139846</td>\n",
       "      <td>0.114738</td>\n",
       "      <td>0.109982</td>\n",
       "      <td>0.119542</td>\n",
       "      <td>0.125795</td>\n",
       "      <td>0.105720</td>\n",
       "      <td>0</td>\n",
       "    </tr>\n",
       "    <tr>\n",
       "      <th>1</th>\n",
       "      <td>0.130316</td>\n",
       "      <td>0.109207</td>\n",
       "      <td>0.107499</td>\n",
       "      <td>0.140210</td>\n",
       "      <td>0.132006</td>\n",
       "      <td>0.108497</td>\n",
       "      <td>0</td>\n",
       "    </tr>\n",
       "    <tr>\n",
       "      <th>2</th>\n",
       "      <td>0.146690</td>\n",
       "      <td>0.135766</td>\n",
       "      <td>0.146550</td>\n",
       "      <td>0.225686</td>\n",
       "      <td>0.218105</td>\n",
       "      <td>0.167111</td>\n",
       "      <td>0</td>\n",
       "    </tr>\n",
       "    <tr>\n",
       "      <th>3</th>\n",
       "      <td>0.119413</td>\n",
       "      <td>0.108924</td>\n",
       "      <td>0.105196</td>\n",
       "      <td>0.144868</td>\n",
       "      <td>0.159775</td>\n",
       "      <td>0.122056</td>\n",
       "      <td>0</td>\n",
       "    </tr>\n",
       "    <tr>\n",
       "      <th>4</th>\n",
       "      <td>0.155492</td>\n",
       "      <td>0.139932</td>\n",
       "      <td>0.137486</td>\n",
       "      <td>0.151377</td>\n",
       "      <td>0.153771</td>\n",
       "      <td>0.133134</td>\n",
       "      <td>0</td>\n",
       "    </tr>\n",
       "    <tr>\n",
       "      <th>...</th>\n",
       "      <td>...</td>\n",
       "      <td>...</td>\n",
       "      <td>...</td>\n",
       "      <td>...</td>\n",
       "      <td>...</td>\n",
       "      <td>...</td>\n",
       "      <td>...</td>\n",
       "    </tr>\n",
       "    <tr>\n",
       "      <th>93</th>\n",
       "      <td>0.117331</td>\n",
       "      <td>0.092176</td>\n",
       "      <td>0.062548</td>\n",
       "      <td>0.020362</td>\n",
       "      <td>0.005813</td>\n",
       "      <td>0.004047</td>\n",
       "      <td>2</td>\n",
       "    </tr>\n",
       "    <tr>\n",
       "      <th>94</th>\n",
       "      <td>0.118353</td>\n",
       "      <td>0.093785</td>\n",
       "      <td>0.060253</td>\n",
       "      <td>0.020083</td>\n",
       "      <td>0.007317</td>\n",
       "      <td>0.004719</td>\n",
       "      <td>2</td>\n",
       "    </tr>\n",
       "    <tr>\n",
       "      <th>95</th>\n",
       "      <td>0.123362</td>\n",
       "      <td>0.095831</td>\n",
       "      <td>0.069663</td>\n",
       "      <td>0.027320</td>\n",
       "      <td>0.011386</td>\n",
       "      <td>0.008357</td>\n",
       "      <td>2</td>\n",
       "    </tr>\n",
       "    <tr>\n",
       "      <th>96</th>\n",
       "      <td>0.122907</td>\n",
       "      <td>0.100083</td>\n",
       "      <td>0.079527</td>\n",
       "      <td>0.024564</td>\n",
       "      <td>0.008570</td>\n",
       "      <td>0.006321</td>\n",
       "      <td>2</td>\n",
       "    </tr>\n",
       "    <tr>\n",
       "      <th>97</th>\n",
       "      <td>0.119945</td>\n",
       "      <td>0.097548</td>\n",
       "      <td>0.066974</td>\n",
       "      <td>0.021062</td>\n",
       "      <td>0.006598</td>\n",
       "      <td>0.004311</td>\n",
       "      <td>2</td>\n",
       "    </tr>\n",
       "  </tbody>\n",
       "</table>\n",
       "<p>98 rows × 7 columns</p>\n",
       "</div>"
      ],
      "text/plain": [
       "          B2        B3        B4        B5        B6        B7  landcover\n",
       "0   0.139846  0.114738  0.109982  0.119542  0.125795  0.105720          0\n",
       "1   0.130316  0.109207  0.107499  0.140210  0.132006  0.108497          0\n",
       "2   0.146690  0.135766  0.146550  0.225686  0.218105  0.167111          0\n",
       "3   0.119413  0.108924  0.105196  0.144868  0.159775  0.122056          0\n",
       "4   0.155492  0.139932  0.137486  0.151377  0.153771  0.133134          0\n",
       "..       ...       ...       ...       ...       ...       ...        ...\n",
       "93  0.117331  0.092176  0.062548  0.020362  0.005813  0.004047          2\n",
       "94  0.118353  0.093785  0.060253  0.020083  0.007317  0.004719          2\n",
       "95  0.123362  0.095831  0.069663  0.027320  0.011386  0.008357          2\n",
       "96  0.122907  0.100083  0.079527  0.024564  0.008570  0.006321          2\n",
       "97  0.119945  0.097548  0.066974  0.021062  0.006598  0.004311          2\n",
       "\n",
       "[98 rows x 7 columns]"
      ]
     },
     "execution_count": 3,
     "metadata": {},
     "output_type": "execute_result"
    }
   ],
   "source": [
    "url = \"https://raw.githubusercontent.com/gee-community/geemap/master/examples/data/rf_example.csv\"\n",
    "df = pd.read_csv(url)\n",
    "\n",
    "# 데이터프레임을 CSV 파일로 저장\n",
    "output_file = \"rf_example.csv\"\n",
    "df.to_csv(output_file, index=False)\n",
    "\n",
    "df"
   ]
  },
  {
   "cell_type": "code",
   "execution_count": 4,
   "id": "b1b0613f-2e79-441d-8769-006766f866fd",
   "metadata": {},
   "outputs": [],
   "source": [
    "feature_names = ['B2', 'B3', 'B4', 'B5', 'B6', 'B7']\n",
    "label = \"landcover\""
   ]
  },
  {
   "cell_type": "code",
   "execution_count": 5,
   "id": "499c5a21-4f77-452a-bddb-0d56ac99004d",
   "metadata": {},
   "outputs": [],
   "source": [
    "X = df[feature_names]\n",
    "y = df[label]\n",
    "n_trees = 10\n",
    "\n",
    "# scikit-learn을 사용하여 로컬에서 모델 훈련\n",
    "rf = ensemble.RandomForestClassifier(n_trees).fit(X, y)"
   ]
  },
  {
   "cell_type": "code",
   "execution_count": 6,
   "id": "a02c56a3-aee6-42d4-ba2d-04856fb4bfb3",
   "metadata": {},
   "outputs": [],
   "source": [
    "# scikit-learn 분류기 객체를 문자열 리스트로 변환\n",
    "trees = ml.rf_to_strings(rf, feature_names)"
   ]
  },
  {
   "cell_type": "code",
   "execution_count": 7,
   "id": "c938d94f-ee0f-4e4b-8ff4-693b5d6ca264",
   "metadata": {},
   "outputs": [
    {
     "name": "stdout",
     "output_type": "stream",
     "text": [
      "10\n"
     ]
    }
   ],
   "source": [
    "print(len(trees))"
   ]
  },
  {
   "cell_type": "code",
   "execution_count": 8,
   "id": "d09f5b4c-cc7f-40f2-9337-2e171cd87e28",
   "metadata": {},
   "outputs": [
    {
     "name": "stdout",
     "output_type": "stream",
     "text": [
      "1) root 62 9999 9999 (1.163265306122449)\n",
      "  2) B7 <= 0.019053 20 0.0000 2 *\n",
      "  3) B7 > 0.019053 62 0.6633 0\n",
      "    6) B2 <= 0.117214 21 0.0000 1 *\n",
      "    7) B2 > 0.117214 21 0.0000 0 *\n",
      "\n"
     ]
    }
   ],
   "source": [
    "print(trees[0])"
   ]
  },
  {
   "cell_type": "code",
   "execution_count": 9,
   "id": "11d28ac4-7422-4927-a3ed-7501765603bb",
   "metadata": {},
   "outputs": [
    {
     "data": {
      "text/plain": [
       "{'type': 'Classifier.decisionTreeEnsemble',\n",
       " 'treeStrings': ['1) root 62 9999 9999 (1.163265306122449)\\n  2) B7 <= 0.019053 20 0.0000 2 *\\n  3) B7 > 0.019053 62 0.6633 0\\n    6) B2 <= 0.117214 21 0.0000 1 *\\n    7) B2 > 0.117214 21 0.0000 0 *\\n',\n",
       "  '1) root 61 9999 9999 (2.1215051779528844)\\n  2) B6 <= 0.047678 21 0.0000 2 *\\n  3) B6 > 0.047678 61 0.6645 0\\n    6) B5 <= 0.204988 40 0.4956 0\\n      12) B2 <= 0.110891 5 0.0000 1 *\\n      13) B2 > 0.110891 15 0.0000 0 *\\n    7) B5 > 0.204988 40 0.4956 0\\n      14) B6 <= 0.255315 20 0.4043 1\\n        28) B4 <= 0.109414 13 0.0000 1 *\\n        29) B4 > 0.109414 3 0.0000 0 *\\n      15) B6 > 0.255315 4 0.0000 0 *\\n',\n",
       "  '1) root 65 9999 9999 (2.931862729101076)\\n  2) B2 <= 0.124305 65 0.6562 2\\n    4) B4 <= 0.057878 44 0.5199 2\\n      8) B3 <= 0.070845 4 0.0000 1 *\\n      9) B3 > 0.070845 26 0.3200 2\\n        18) B7 <= 0.037645 19 0.0000 2 *\\n        19) B7 > 0.037645 3 0.0000 1 *\\n    5) B4 > 0.057878 44 0.5199 2\\n      10) B7 <= 0.030050 4 0.0000 2 *\\n      11) B7 > 0.030050 18 0.5240 1\\n        22) B4 <= 0.102578 9 0.0000 1 *\\n        23) B4 > 0.102578 14 0.2550 1\\n          46) B4 <= 0.121925 2 0.0000 0 *\\n          47) B4 > 0.121925 3 0.0000 1 *\\n  3) B2 > 0.124305 21 0.0000 0 *\\n',\n",
       "  '1) root 61 9999 9999 (1.7184977605963625)\\n  2) B5 <= 0.071009 22 0.0000 2 *\\n  3) B5 > 0.071009 61 0.6633 1\\n    6) B3 <= 0.100830 18 0.0000 1 *\\n    7) B3 > 0.100830 39 0.4938 1\\n      14) B5 <= 0.311796 21 0.1748 0\\n        28) B6 <= 0.263031 16 0.0000 0 *\\n        29) B6 > 0.263031 20 0.0666 0\\n          58) B4 <= 0.180226 1 0.0000 1 *\\n          59) B4 > 0.180226 3 0.0000 0 *\\n      15) B5 > 0.311796 1 0.0000 1 *\\n',\n",
       "  '1) root 67 9999 9999 (1.2142789660099749)\\n  2) B5 <= 0.070122 26 0.0000 2 *\\n  3) B5 > 0.070122 67 0.6591 2\\n    6) B2 <= 0.116317 20 0.0000 1 *\\n    7) B2 > 0.116317 41 0.4964 0\\n      14) B6 <= 0.306811 20 0.0000 0 *\\n      15) B6 > 0.306811 1 0.0000 1 *\\n',\n",
       "  '1) root 61 9999 9999 (1.535938124581055)\\n  2) B5 <= 0.084699 24 0.0000 2 *\\n  3) B5 > 0.084699 61 0.6516 2\\n    6) B2 <= 0.128682 37 0.4875 0\\n      12) B7 <= 0.118544 14 0.0000 1 *\\n      13) B7 > 0.118544 18 0.0768 1\\n        26) B6 <= 0.181488 1 0.0000 0 *\\n        27) B6 > 0.181488 3 0.0000 1 *\\n    7) B2 > 0.128682 19 0.0000 0 *\\n',\n",
       "  '1) root 70 9999 9999 (2.0373260123038595)\\n  2) B6 <= 0.040969 26 0.0000 2 *\\n  3) B6 > 0.040969 70 0.6574 1\\n    6) B7 <= 0.116309 44 0.4813 1\\n      12) B2 <= 0.115374 18 0.0000 1 *\\n      13) B2 > 0.115374 5 0.0000 0 *\\n    7) B7 > 0.116309 44 0.4813 1\\n      14) B2 <= 0.128682 21 0.4170 0\\n        28) B6 <= 0.186668 1 0.0000 0 *\\n        29) B6 > 0.186668 6 0.0000 1 *\\n      15) B2 > 0.128682 14 0.0000 0 *\\n',\n",
       "  '1) root 61 9999 9999 (1.4084234736818741)\\n  2) B6 <= 0.038694 21 0.0000 2 *\\n  3) B6 > 0.038694 61 0.6641 0\\n    6) B2 <= 0.116759 19 0.0000 1 *\\n    7) B2 > 0.116759 40 0.4942 0\\n      14) B7 <= 0.188192 16 0.0000 0 *\\n      15) B7 > 0.188192 21 0.0526 0\\n        30) B2 <= 0.162857 1 0.0000 1 *\\n        31) B2 > 0.162857 4 0.0000 0 *\\n',\n",
       "  '1) root 59 9999 9999 (1.1393393937099212)\\n  2) B5 <= 0.071009 22 0.0000 2 *\\n  3) B5 > 0.071009 59 0.6474 2\\n    6) B2 <= 0.115278 18 0.0000 1 *\\n    7) B2 > 0.115278 19 0.0000 0 *\\n',\n",
       "  '1) root 66 9999 9999 (1.1378508954602249)\\n  2) B5 <= 0.064203 22 0.0000 2 *\\n  3) B5 > 0.064203 66 0.6579 0\\n    6) B2 <= 0.116759 21 0.0000 1 *\\n    7) B2 > 0.116759 23 0.0000 0 *\\n']}"
      ]
     },
     "execution_count": 9,
     "metadata": {},
     "output_type": "execute_result"
    }
   ],
   "source": [
    "# sk-learn 분류기를 GEE 분류기로 변환\n",
    "ee_classifier = ml.strings_to_classifier(trees)\n",
    "ee_classifier.getInfo()"
   ]
  },
  {
   "cell_type": "code",
   "execution_count": 10,
   "id": "5f176f6e-7f5f-4bd0-a68e-893207ae5441",
   "metadata": {},
   "outputs": [],
   "source": [
    "# GEE 분류기를 사용한 이미지 분류\n",
    "\n",
    "# USGS Landsat 8 Collection 2 Tier 1 Raw Scenes\n",
    "# https://developers.google.com/earth-engine/datasets/catalog/landsat-8\n",
    "l8 = ee.ImageCollection('LANDSAT/LC08/C02/T1')"
   ]
  },
  {
   "cell_type": "code",
   "execution_count": 12,
   "id": "7ecbfa4d-c659-420e-b827-b7fec9fa0172",
   "metadata": {},
   "outputs": [],
   "source": [
    "# cloud-free Landsat 8 TOA composite 생성\n",
    "# https://developers.google.com/earth-engine/apidocs/ee-algorithms-landsat-simplecomposite\n",
    "image = ee.Algorithms.Landsat.simpleComposite(\n",
    "    collection=l8.filterDate('2022-01-01', '2022-12-31'), asFloat=True\n",
    ")"
   ]
  },
  {
   "cell_type": "code",
   "execution_count": 11,
   "id": "45398fd6-64ba-4769-b40c-02c723328215",
   "metadata": {},
   "outputs": [
    {
     "data": {
      "application/vnd.jupyter.widget-view+json": {
       "model_id": "3e655665226144e0b0b1b39a56b9c407",
       "version_major": 2,
       "version_minor": 0
      },
      "text/plain": [
       "Map(center=[36.6125, 126.22559999999999], controls=(WidgetControl(options=['position', 'transparent_bg'], widg…"
      ]
     },
     "execution_count": 11,
     "metadata": {},
     "output_type": "execute_result"
    }
   ],
   "source": [
    "Map = geemap.Map()\n",
    "\n",
    "point = ee.Geometry.Point([126.2256, 36.6125])\n",
    "Map.centerObject(point, 9)\n",
    "Map.addLayer(\n",
    "    image,\n",
    "    {\"bands\": ['B7', 'B5', 'B3'], \"min\": 0.05, \"max\": 0.55, \"gamma\": 1.5},\n",
    "    'image',\n",
    ")\n",
    "Map"
   ]
  },
  {
   "cell_type": "code",
   "execution_count": 13,
   "id": "d66f75b7-75a6-465b-9353-1083e776fe07",
   "metadata": {},
   "outputs": [],
   "source": [
    "classified = image.select(feature_names).classify(ee_classifier)"
   ]
  },
  {
   "cell_type": "code",
   "execution_count": 14,
   "id": "b81a3665-a17c-42ae-bcba-a2a7c2312496",
   "metadata": {},
   "outputs": [
    {
     "data": {
      "application/vnd.jupyter.widget-view+json": {
       "model_id": "3e655665226144e0b0b1b39a56b9c407",
       "version_major": 2,
       "version_minor": 0
      },
      "text/plain": [
       "Map(bottom=51493.0, center=[36.6125, 126.22559999999999], controls=(WidgetControl(options=['position', 'transp…"
      ]
     },
     "execution_count": 14,
     "metadata": {},
     "output_type": "execute_result"
    }
   ],
   "source": [
    "Map.addLayer(\n",
    "    classified,\n",
    "    {\"min\": 0, \"max\": 2, \"palette\": ['red', 'green', 'blue']},\n",
    "    'classification',\n",
    ")\n",
    "Map"
   ]
  },
  {
   "cell_type": "code",
   "execution_count": 15,
   "id": "03c8fa40-badd-4466-b530-4a8bcf51d903",
   "metadata": {},
   "outputs": [],
   "source": [
    "# trees를 로컬에 저장\n",
    "out_csv = \"trees.csv\"\n",
    "ml.trees_to_csv(trees, out_csv)\n",
    "another_classifier = ml.csv_to_classifier(out_csv)\n",
    "classified = image.select(feature_names).classify(another_classifier)"
   ]
  },
  {
   "cell_type": "code",
   "execution_count": null,
   "id": "600262ad-1cec-430e-9945-c8f459727ec4",
   "metadata": {},
   "outputs": [],
   "source": []
  }
 ],
 "metadata": {
  "kernelspec": {
   "display_name": "Python 3 (ipykernel)",
   "language": "python",
   "name": "python3"
  },
  "language_info": {
   "codemirror_mode": {
    "name": "ipython",
    "version": 3
   },
   "file_extension": ".py",
   "mimetype": "text/x-python",
   "name": "python",
   "nbconvert_exporter": "python",
   "pygments_lexer": "ipython3",
   "version": "3.10.11"
  }
 },
 "nbformat": 4,
 "nbformat_minor": 5
}
