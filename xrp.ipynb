{
  "cells": [
    {
      "cell_type": "code",
      "source": [
        "import requests\n",
        "import time\n",
        "import os\n",
        "\n",
        "# 📌 가격 조회 함수\n",
        "def get_xrp_price():\n",
        "    url = \"https://api.upbit.com/v1/ticker\"\n",
        "    params = {\"markets\": \"KRW-XRP\"}\n",
        "    resp = requests.get(url, params=params)\n",
        "    resp.raise_for_status()\n",
        "    return resp.json()[0][\"trade_price\"]\n",
        "\n",
        "# 📌 수익 계산 함수\n",
        "def calculate_profit(current_price, quantity, buy_price):\n",
        "    current_value = current_price * quantity\n",
        "    buy_value = buy_price * quantity\n",
        "    profit = current_value - buy_value\n",
        "    profit_rate = (profit / buy_value) * 100\n",
        "    return current_value, buy_value, profit, profit_rate\n",
        "\n",
        "# 📌 콘솔 실시간 출력 함수\n",
        "def run_console_tracker():\n",
        "    quantity = 7423.11  # 보유량\n",
        "    buy_price = 4322    # 매입 단가\n",
        "\n",
        "    while True:\n",
        "        try:\n",
        "            current_price = get_xrp_price()\n",
        "            current_value, buy_value, profit, profit_rate = calculate_profit(current_price, quantity, buy_price)\n",
        "\n",
        "            # 콘솔 화면 초기화\n",
        "            os.system('cls' if os.name == 'nt' else 'clear')\n",
        "\n",
        "            # 정보 출력\n",
        "            print(\"🪙 XRP 실시간 수익률\")\n",
        "            print(\"=\" * 40)\n",
        "            print(f\"📌 현재 XRP 가격: {current_price:,.2f} KRW\")\n",
        "            print(f\"📌 보유량: {quantity} XRP\")\n",
        "            print(f\"💰 평가금액: {current_value:,.0f} KRW\")\n",
        "            print(f\"💸 매입금액: {buy_value:,.0f} KRW\")\n",
        "            print(f\"{'📈 수익' if profit >= 0 else '📉 손해'}: {profit:,.0f} KRW\")\n",
        "            print(f\"{'📈 수익률' if profit >= 0 else '📉 손실률'}: {profit_rate:+.2f}%\")\n",
        "            print(\"=\" * 40)\n",
        "\n",
        "        except Exception as e:\n",
        "            os.system('cls' if os.name == 'nt' else 'clear')\n",
        "            print(f\"❌ 오류 발생: {e}\")\n",
        "\n",
        "        time.sleep(1)  # 1초 후 반복\n",
        "\n",
        "# 📌 메인 실행\n",
        "if __name__ == \"__main__\":\n",
        "    run_console_tracker()"
      ],
      "metadata": {
        "id": "Lzb69PSKIpnF"
      },
      "id": "Lzb69PSKIpnF",
      "execution_count": null,
      "outputs": []
    }
  ],
  "metadata": {
    "kernelspec": {
      "display_name": "clean",
      "language": "python",
      "name": "python3"
    },
    "language_info": {
      "codemirror_mode": {
        "name": "ipython",
        "version": 3
      },
      "file_extension": ".py",
      "mimetype": "text/x-python",
      "name": "python",
      "nbconvert_exporter": "python",
      "pygments_lexer": "ipython3",
      "version": "3.8.10"
    },
    "colab": {
      "provenance": []
    }
  },
  "nbformat": 4,
  "nbformat_minor": 5
}